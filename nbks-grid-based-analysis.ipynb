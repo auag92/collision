{
 "cells": [
  {
   "cell_type": "code",
   "execution_count": 1,
   "metadata": {},
   "outputs": [],
   "source": [
    "%load_ext autoreload\n",
    "%autoreload 2"
   ]
  },
  {
   "cell_type": "code",
   "execution_count": 2,
   "metadata": {},
   "outputs": [],
   "source": [
    "import time\n",
    "import scipy\n",
    "import numba\n",
    "import torch\n",
    "import numpy as np\n",
    "import pandas as pd\n",
    "import ase.io as aio\n",
    "from ase import Atoms\n",
    "import scipy.io as sio\n",
    "from scipy.stats import moment\n",
    "import matplotlib.pyplot as plt\n",
    "from scipy.spatial import cKDTree\n",
    "from toolz.curried import pipe, curry\n",
    "import atomistics as amks"
   ]
  },
  {
   "cell_type": "code",
   "execution_count": 3,
   "metadata": {},
   "outputs": [],
   "source": [
    "from ase.neighborlist import neighbor_list\n",
    "from asap3.analysis.localstructure import RestrictedCNA"
   ]
  },
  {
   "cell_type": "code",
   "execution_count": 4,
   "metadata": {},
   "outputs": [],
   "source": [
    "import matplotlib as mpl\n",
    "mpl.rcParams['lines.linewidth'] = 2\n",
    "mpl.rcParams['lines.color'] = 'r'\n",
    "plt.style.use('ggplot')\n",
    "mpl.rcParams['figure.figsize'] = [12.0, 9.0]\n",
    "mpl.rcParams['figure.dpi'] = 80\n",
    "mpl.rcParams['savefig.dpi'] = 100\n",
    "\n",
    "mpl.rcParams['font.size'] = 14\n",
    "mpl.rcParams['legend.fontsize'] = 'large'\n",
    "mpl.rcParams['figure.titlesize'] = 'medium'"
   ]
  },
  {
   "cell_type": "code",
   "execution_count": 5,
   "metadata": {},
   "outputs": [],
   "source": [
    "try:\n",
    "    import pyfftw\n",
    "    np.fftpack = pyfftw.interfaces.numpy_fft\n",
    "    pyfftw.interfaces.cache.enable()\n",
    "except ImportError:\n",
    "    print(\"you can install PyFFTW for speed-up as - \")\n",
    "    print(\"conda install -c conda-forge pyfftw\")\n",
    "    pass\n",
    "\n",
    "\n",
    "fftn = curry(np.fft.fftn)  # pylint: disable=invalid-name\n",
    "\n",
    "ifftn = curry(np.fft.ifftn)  # pylint: disable=invalid-name\n",
    "\n",
    "ifftshift = curry(np.fft.ifftshift)\n",
    "\n",
    "conj = curry(np.conj)\n",
    "\n",
    "fabs = curry(lambda x: np.absolute(x))\n",
    "\n",
    "torch_rfft = curry(torch.rfft)\n",
    "\n",
    "torch_irfft = curry(torch.irfft)\n",
    "\n",
    "torch_numpy = curry(torch.from_numpy)\n",
    "\n",
    "fftshift = curry(np.fft.fftshift)\n",
    "\n",
    "@curry\n",
    "def conjugate(x):\n",
    "    y = torch.empty_like(x)\n",
    "    y[..., 1] = 0\n",
    "    y[..., 0] = x[... , 0]**2 + x[..., 1]**2\n",
    "    return y\n",
    "\n",
    "@curry\n",
    "def conjugate_mult(x1, x2):\n",
    "    y = torch.empty_like(x1)\n",
    "    y[..., 0] = x1[..., 0] * x2[..., 0] + x1[..., 1] * x2[..., 1]\n",
    "    y[..., 1] = x1[..., 1] * x2[..., 0] - x1[..., 0] * x2[..., 1]\n",
    "    return y\n",
    "\n",
    "def imfilter_torch(x_data, f_data):\n",
    "    ndim = x_data.ndim\n",
    "    f_data = torch.from_numpy(f_data).double()\n",
    "    func = conjugate_mult(x1=torch.rfft(f_data, \n",
    "                                        signal_ndim=ndim))\n",
    "    return pipe(x_data, \n",
    "                lambda x: torch.from_numpy(x),\n",
    "                lambda x: x.double(),\n",
    "                torch_rfft(signal_ndim=ndim), \n",
    "                lambda x: func(x2=x), \n",
    "                torch_irfft(signal_ndim=ndim), \n",
    "                fftshift)\n",
    "                \n",
    "                \n",
    "@curry\n",
    "def write2vtk(matrix, fname=\"zeo.vtk\"):\n",
    "    \"\"\"\n",
    "    args:\n",
    "    matrix: numpy ndArray\n",
    "    fname : filename\n",
    "    \"\"\"\n",
    "    sx, sy, sz = matrix.shape\n",
    "    mx = np.max(matrix)\n",
    "    mi = np.min(matrix)\n",
    "    lines ='# vtk DataFile Version 2.0\\nVolume example\\nASCII\\nDATASET STRUCTURED_POINTS\\nDIMENSIONS %d %d %d\\nASPECT_RATIO 1 1 1\\nORIGIN 0 0 0\\nPOINT_DATA %d\\nSCALARS matlab_scalars float 1\\nLOOKUP_TABLE default\\n'%(sx, sy, sz, matrix.size)\n",
    "    with open(fname, 'w') as f:\n",
    "        f.write(lines)\n",
    "        for ix in range(sz):\n",
    "            v = np.ravel(matrix[:,:,ix], order=\"f\")\n",
    "            v = [\"%1.5f\"%x for x in np.round(100 * v / mx)]\n",
    "            line = \" \".join(v)\n",
    "            f.write(line+\"\\n\")"
   ]
  },
  {
   "cell_type": "code",
   "execution_count": 6,
   "metadata": {},
   "outputs": [],
   "source": [
    "def get_coords(fname):\n",
    "    with open(fname, \"r\") as f:\n",
    "        lines = f.readlines()\n",
    "    n_atoms = int(lines[3].split(\" \")[0])\n",
    "    box_dim = []\n",
    "    box_dim.append([float(x) for x in lines[5].split(\" \")[:2]])\n",
    "    box_dim.append([float(x) for x in lines[6].split(\" \")[:2]])\n",
    "    box_dim.append([float(x) for x in lines[7].split(\" \")[:2]])\n",
    "    lines = lines[9:n_atoms+9]\n",
    "    coords = (np.array([[line.split(\" \")[0]]+line.split(\" \")[2:5] for line in lines])).astype(float)\n",
    "    return coords[np.argsort(coords[:,0])][:,1:], np.array(box_dim)\n",
    "\n",
    "\n",
    "def get_GBcoords(atom, cutoff=3.0):\n",
    "    cna = RestrictedCNA(atom, cutoff)\n",
    "    tags = cna.atoms.get_tags()\n",
    "    idx = np.where(tags != 0)[0]\n",
    "    \n",
    "    coords = atom.get_positions()\n",
    "    coords = np.concatenate([coords, np.arange(len(atom))[:,None]], axis=1)\n",
    "    \n",
    "    coords_irr = coords[idx]\n",
    "    return coords_irr[:,:3], coords_irr[:,3].astype(int)"
   ]
  },
  {
   "cell_type": "markdown",
   "metadata": {},
   "source": [
    "# Load reference structure"
   ]
  },
  {
   "cell_type": "code",
   "execution_count": 7,
   "metadata": {},
   "outputs": [],
   "source": [
    "pka = 1000\n",
    "fname = \"../data/cu_reference/dump.ref.{}\".format(pka)\n",
    "coords_ref, box_dim = get_coords(fname)"
   ]
  },
  {
   "cell_type": "code",
   "execution_count": null,
   "metadata": {},
   "outputs": [],
   "source": [
    "run = 10\n",
    "fname = \"../data/cu_transfer/{}/dump.que.{}\".format(pka, run)\n",
    "\n",
    "# diffs, box_dim = get_coords(fname)\n",
    "# coords_all = coords_ref + diffs\n",
    "\n",
    "coords_all, box_dim = get_coords(fname)\n",
    "print(\"Total no. of atoms: %d\" % coords_all.shape[0])\n",
    "\n",
    "cell = [(box_dim[i,1] - box_dim[i,0]) for i in range(3)] \n",
    "\n",
    "pbc = [1, 1, 1]\n",
    "\n",
    "atoms_0 = Atoms(positions=coords_all, cell=cell, pbc=pbc)\n",
    "\n",
    "coords_irr, indexes = get_GBcoords(atoms_0, cutoff=2.8)\n",
    "print(\"No. of Cascade Atoms: %d\" % len(indexes))\n",
    "\n",
    "atoms_1 = Atoms(positions=coords_irr, cell=cell, pbc=pbc)"
   ]
  },
  {
   "cell_type": "markdown",
   "metadata": {},
   "source": [
    "# Visualization of the Cascade "
   ]
  },
  {
   "cell_type": "code",
   "execution_count": 59,
   "metadata": {},
   "outputs": [],
   "source": [
    "import poremks.porosity as poreb\n",
    "import poremks.grid_generator as gen"
   ]
  },
  {
   "cell_type": "code",
   "execution_count": 60,
   "metadata": {},
   "outputs": [],
   "source": [
    "atom_ids = sorted(np.unique(atoms_1.get_chemical_symbols()))\n",
    "\n",
    "radii = {}\n",
    "for idx in atom_ids:\n",
    "    radii[idx] = 1.0"
   ]
  },
  {
   "cell_type": "code",
   "execution_count": 61,
   "metadata": {},
   "outputs": [
    {
     "name": "stdout",
     "output_type": "stream",
     "text": [
      "(73, 73, 74)\n",
      "CPU times: user 44.9 ms, sys: 7.6 ms, total: 52.5 ms\n",
      "Wall time: 42 ms\n"
     ]
    }
   ],
   "source": [
    "%%time\n",
    "len_pixel = 1\n",
    "S, S_list, box_dim = gen.grid_maker(atoms_1, len_pixel=len_pixel, atomic_radii=radii, full=False, fft=False)\n",
    "print(S.shape)"
   ]
  },
  {
   "cell_type": "code",
   "execution_count": 62,
   "metadata": {},
   "outputs": [
    {
     "name": "stdout",
     "output_type": "stream",
     "text": [
      "8672\n"
     ]
    }
   ],
   "source": [
    "S_cas = S_list[0]\n",
    "print(np.count_nonzero(S_cas))"
   ]
  },
  {
   "cell_type": "code",
   "execution_count": 63,
   "metadata": {},
   "outputs": [],
   "source": [
    "# To generate vtk file of the accessible void region for visualization\n",
    "write2vtk(S_cas, \"pka_{}_run_{}_cascade.vtk\".format(pka,run))"
   ]
  },
  {
   "cell_type": "markdown",
   "metadata": {},
   "source": [
    "# Feature Extraction from the cascade"
   ]
  },
  {
   "cell_type": "code",
   "execution_count": 36,
   "metadata": {},
   "outputs": [
    {
     "name": "stdout",
     "output_type": "stream",
     "text": [
      "Probe Accessible Surface Area: 103666.000\n",
      "Probe Accessible Volume: 8723.000\n"
     ]
    }
   ],
   "source": [
    "asa = pore.get_asa(S_cas, len_pixel=len_pixel)\n",
    "print(\"Probe Accessible Surface Area: %1.3f\" % asa)\n",
    "av = np.count_nonzero(S_cas) * (1 / len_pixel)**3\n",
    "print(\"Probe Accessible Volume: %1.3f\" % av)"
   ]
  },
  {
   "cell_type": "code",
   "execution_count": 37,
   "metadata": {},
   "outputs": [],
   "source": [
    "S_l, n_count, m = pore.return_labelled(S_cas)"
   ]
  },
  {
   "cell_type": "code",
   "execution_count": 38,
   "metadata": {},
   "outputs": [
    {
     "name": "stdout",
     "output_type": "stream",
     "text": [
      "No. of unconnected regions: 8701\n"
     ]
    }
   ],
   "source": [
    "print(\"No. of unconnected regions: {}\".format(n_count))"
   ]
  },
  {
   "cell_type": "code",
   "execution_count": 40,
   "metadata": {},
   "outputs": [],
   "source": [
    "write2vtk(S_l, \"pka_{}_run_{}_cascade_colored.vtk\".format(pka,run))"
   ]
  },
  {
   "cell_type": "markdown",
   "metadata": {},
   "source": [
    "## Generate skeletonized representation"
   ]
  },
  {
   "cell_type": "code",
   "execution_count": 43,
   "metadata": {},
   "outputs": [
    {
     "name": "stdout",
     "output_type": "stream",
     "text": [
      "Medial Path Computation Time: 0.010s\n"
     ]
    }
   ],
   "source": [
    "strt = time.time()\n",
    "S_skel = pipe(S_cas, \n",
    "           lambda x: pore.gen_medialAxis(x))\n",
    "end = time.time()\n",
    "print(\"Medial Path Computation Time: %1.3fs\" % (end-strt))"
   ]
  },
  {
   "cell_type": "code",
   "execution_count": 44,
   "metadata": {},
   "outputs": [],
   "source": [
    "write2vtk(S_skel, \"pka_{}_run_%d_cascade_skeleton.vtk\".format(pka,run))"
   ]
  }
 ],
 "metadata": {
  "kernelspec": {
   "display_name": "Python 3",
   "language": "python",
   "name": "python3"
  },
  "language_info": {
   "codemirror_mode": {
    "name": "ipython",
    "version": 3
   },
   "file_extension": ".py",
   "mimetype": "text/x-python",
   "name": "python",
   "nbconvert_exporter": "python",
   "pygments_lexer": "ipython3",
   "version": "3.6.10"
  }
 },
 "nbformat": 4,
 "nbformat_minor": 4
}
