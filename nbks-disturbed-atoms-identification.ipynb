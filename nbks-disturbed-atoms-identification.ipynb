{
 "cells": [
  {
   "cell_type": "code",
   "execution_count": 1,
   "metadata": {},
   "outputs": [],
   "source": [
    "%load_ext autoreload\n",
    "%autoreload 2"
   ]
  },
  {
   "cell_type": "code",
   "execution_count": 2,
   "metadata": {},
   "outputs": [],
   "source": [
    "import os\n",
    "import time\n",
    "import glob\n",
    "import scipy\n",
    "import numba\n",
    "import torch\n",
    "import tqdm\n",
    "import numpy as np\n",
    "import pandas as pd\n",
    "\n",
    "import seaborn as sns\n",
    "\n",
    "import scipy.io as sio\n",
    "from scipy.stats import moment\n",
    "import matplotlib.pyplot as plt\n",
    "from scipy.spatial import cKDTree\n",
    "from toolz.curried import pipe, curry"
   ]
  },
  {
   "cell_type": "code",
   "execution_count": 3,
   "metadata": {},
   "outputs": [],
   "source": [
    "import ase.io as aio\n",
    "from ase import Atoms\n",
    "from ase.neighborlist import neighbor_list\n",
    "\n",
    "from asap3.analysis import PTM\n",
    "from asap3.analysis.localstructure import RestrictedCNA, GuessLatticeConstant\n",
    "\n",
    "from sklearn.decomposition import PCA"
   ]
  },
  {
   "cell_type": "code",
   "execution_count": 6,
   "metadata": {},
   "outputs": [
    {
     "ename": "ModuleNotFoundError",
     "evalue": "No module named 'utilities'",
     "output_type": "error",
     "traceback": [
      "\u001b[0;31m---------------------------------------------------------------------------\u001b[0m",
      "\u001b[0;31mModuleNotFoundError\u001b[0m                       Traceback (most recent call last)",
      "\u001b[0;32m<ipython-input-6-97e298878566>\u001b[0m in \u001b[0;36m<module>\u001b[0;34m\u001b[0m\n\u001b[0;32m----> 1\u001b[0;31m \u001b[0;32mimport\u001b[0m \u001b[0mutilities\u001b[0m \u001b[0;32mas\u001b[0m \u001b[0mutils\u001b[0m\u001b[0;34m\u001b[0m\u001b[0;34m\u001b[0m\u001b[0m\n\u001b[0m",
      "\u001b[0;31mModuleNotFoundError\u001b[0m: No module named 'utilities'"
     ]
    }
   ],
   "source": [
    "import utilities as utils"
   ]
  },
  {
   "cell_type": "code",
   "execution_count": null,
   "metadata": {},
   "outputs": [],
   "source": [
    "import matplotlib as mpl\n",
    "mpl.rcParams['lines.linewidth'] = 2\n",
    "mpl.rcParams['lines.color'] = 'r'\n",
    "plt.style.use('ggplot')\n",
    "mpl.rcParams['figure.figsize'] = [6.0, 4.50]\n",
    "mpl.rcParams['figure.dpi'] = 80\n",
    "mpl.rcParams['savefig.dpi'] = 100\n",
    "\n",
    "mpl.rcParams['font.size'] = 14\n",
    "mpl.rcParams['legend.fontsize'] = 'large'\n",
    "mpl.rcParams['figure.titlesize'] = 'medium'"
   ]
  },
  {
   "cell_type": "code",
   "execution_count": 6,
   "metadata": {},
   "outputs": [],
   "source": [
    "folder = \"structs\"\n",
    "if not os.path.exists(folder):\n",
    "    os.mkdir(folder)\n",
    "    \n",
    "if not os.path.exists(\"rmsds\"):\n",
    "    os.mkdir(\"rmsds\")"
   ]
  },
  {
   "cell_type": "code",
   "execution_count": 7,
   "metadata": {},
   "outputs": [
    {
     "data": {
      "text/plain": [
       "(77,)"
      ]
     },
     "execution_count": 7,
     "metadata": {},
     "output_type": "execute_result"
    }
   ],
   "source": [
    "runs = np.loadtxt(\"runs.txt\").astype(int)\n",
    "runs.shape"
   ]
  },
  {
   "cell_type": "markdown",
   "metadata": {},
   "source": [
    "## Load lammps dump file"
   ]
  },
  {
   "cell_type": "code",
   "execution_count": 8,
   "metadata": {},
   "outputs": [
    {
     "name": "stdout",
     "output_type": "stream",
     "text": [
      "CPU times: user 32.3 s, sys: 1.16 s, total: 33.5 s\n",
      "Wall time: 33.6 s\n"
     ]
    }
   ],
   "source": [
    "%%time\n",
    "run = runs[1]\n",
    "f_dump = \"../new-data/CK_Cu_ACC_DUMP/dump.arc.{}\".format(run)\n",
    "atoms = aio.read(f_dump, format=\"lammps-dump-text\")\n",
    "atoms.set_pbc([1, 1, 1])\n",
    "f_struct = \"{}/sdump.arc.{}_atom.pkl\".format(folder, run)\n",
    "utils.save_file(f_struct, obj=atoms)"
   ]
  },
  {
   "cell_type": "markdown",
   "metadata": {},
   "source": [
    "## Utilize PTM to identify \n",
    "[link to PTM documentation](https://wiki.fysik.dtu.dk/asap/Local%20crystalline%20order)"
   ]
  },
  {
   "cell_type": "code",
   "execution_count": 17,
   "metadata": {},
   "outputs": [],
   "source": [
    "%%time\n",
    "ptm = PTM(atoms, rmsd_max=0.10, cutoff=8)\n",
    "tags = ptm['structure']\n",
    "atoms.set_tags(tags)\n",
    "\n",
    "\n",
    "idx = np.where(tags != 1)[0]\n",
    "print(len(idx))\n",
    "coords_irr = atoms.get_positions()[idx]\n",
    "\n",
    "rmsds = ptm['rmsd']\n",
    "\n",
    "f_rmsd = \"{}/dump.arc.{}_rmsd.pkl\".format(\"rmsds\", run)\n",
    "utils.save_file(f_rmsd, obj=rmsds)"
   ]
  },
  {
   "cell_type": "code",
   "execution_count": 16,
   "metadata": {},
   "outputs": [],
   "source": [
    "sns.distplot(rmsds, kde=False, bins=200)\n",
    "plt.xlim([0.0, 0.20])\n",
    "plt.grid(False)\n",
    "plt.show()"
   ]
  },
  {
   "cell_type": "code",
   "execution_count": null,
   "metadata": {},
   "outputs": [],
   "source": [
    "sns.distplot(rmsds, kde=False, bins=100)\n",
    "plt.xlim([0.0, 0.10])\n",
    "plt.grid(False)\n",
    "plt.show()"
   ]
  },
  {
   "cell_type": "code",
   "execution_count": 18,
   "metadata": {},
   "outputs": [],
   "source": [
    "def save_struct_data(run):\n",
    "    \n",
    "    f_dump = \"../new-data/CK_Cu_ACC_DUMP/dump.arc.{}\".format(run)\n",
    "    print(f_dump)\n",
    "    \n",
    "    atoms = aio.read(f_dump, format=\"lammps-dump-text\")\n",
    "    atoms.set_pbc([1, 1, 1])\n",
    "    ptm = PTM(atoms, rmsd_max=0.10, cutoff=8)\n",
    "    atoms.set_tags(ptm['structure'])\n",
    "    \n",
    "    f_struct = \"{}/dump.arc.{}_atom.pkl\".format(folder, run)\n",
    "    utils.save_file(f_struct, obj=atoms)\n",
    "    \n",
    "    rmsds = ptm['rmsd']\n",
    "\n",
    "    f_rmsd = \"{}/dump.arc.{}_rmsd.pkl\".format(\"rmsds\", run)\n",
    "    utils.save_file(f_rmsd, obj=rmsds)"
   ]
  },
  {
   "cell_type": "code",
   "execution_count": 61,
   "metadata": {},
   "outputs": [
    {
     "name": "stdout",
     "output_type": "stream",
     "text": [
      "CPU times: user 2min 8s, sys: 2.05 s, total: 2min 10s\n",
      "Wall time: 2min 10s\n"
     ]
    }
   ],
   "source": [
    "%%time\n",
    "# save_struct_data(runs[0])"
   ]
  },
  {
   "cell_type": "code",
   "execution_count": null,
   "metadata": {},
   "outputs": [
    {
     "name": "stdout",
     "output_type": "stream",
     "text": [
      "../new-data/CK_Cu_ACC_DUMP/dump.arc.3000\n",
      "../new-data/CK_Cu_ACC_DUMP/dump.arc.0\n",
      "../new-data/CK_Cu_ACC_DUMP/dump.arc.1500\n",
      "../new-data/CK_Cu_ACC_DUMP/dump.arc.4500\n",
      "../new-data/CK_Cu_ACC_DUMP/dump.arc.7500\n",
      "../new-data/CK_Cu_ACC_DUMP/dump.arc.6000\n",
      "../new-data/CK_Cu_ACC_DUMP/dump.arc.9000\n",
      "../new-data/CK_Cu_ACC_DUMP/dump.arc.10500\n",
      "../new-data/CK_Cu_ACC_DUMP/dump.arc.500\n",
      "../new-data/CK_Cu_ACC_DUMP/dump.arc.2000\n",
      "../new-data/CK_Cu_ACC_DUMP/dump.arc.3500\n",
      "../new-data/CK_Cu_ACC_DUMP/dump.arc.5000\n",
      "../new-data/CK_Cu_ACC_DUMP/dump.arc.6500\n",
      "../new-data/CK_Cu_ACC_DUMP/dump.arc.8000\n",
      "../new-data/CK_Cu_ACC_DUMP/dump.arc.9500\n",
      "../new-data/CK_Cu_ACC_DUMP/dump.arc.11000\n",
      "../new-data/CK_Cu_ACC_DUMP/dump.arc.1000\n",
      "../new-data/CK_Cu_ACC_DUMP/dump.arc.2500\n",
      "../new-data/CK_Cu_ACC_DUMP/dump.arc.4000\n",
      "../new-data/CK_Cu_ACC_DUMP/dump.arc.5500\n",
      "../new-data/CK_Cu_ACC_DUMP/dump.arc.7000\n",
      "../new-data/CK_Cu_ACC_DUMP/dump.arc.8500\n",
      "../new-data/CK_Cu_ACC_DUMP/dump.arc.10000\n",
      "../new-data/CK_Cu_ACC_DUMP/dump.arc.11500\n",
      "../new-data/CK_Cu_ACC_DUMP/dump.arc.12000\n",
      "../new-data/CK_Cu_ACC_DUMP/dump.arc.13500\n",
      "../new-data/CK_Cu_ACC_DUMP/dump.arc.15000\n",
      "../new-data/CK_Cu_ACC_DUMP/dump.arc.16500\n",
      "../new-data/CK_Cu_ACC_DUMP/dump.arc.18000\n",
      "../new-data/CK_Cu_ACC_DUMP/dump.arc.19500\n",
      "../new-data/CK_Cu_ACC_DUMP/dump.arc.21000\n",
      "../new-data/CK_Cu_ACC_DUMP/dump.arc.22500\n",
      "../new-data/CK_Cu_ACC_DUMP/dump.arc.12500\n",
      "../new-data/CK_Cu_ACC_DUMP/dump.arc.14000\n",
      "../new-data/CK_Cu_ACC_DUMP/dump.arc.15500\n",
      "../new-data/CK_Cu_ACC_DUMP/dump.arc.17000\n",
      "../new-data/CK_Cu_ACC_DUMP/dump.arc.18500\n",
      "../new-data/CK_Cu_ACC_DUMP/dump.arc.21500\n",
      "../new-data/CK_Cu_ACC_DUMP/dump.arc.20000\n",
      "../new-data/CK_Cu_ACC_DUMP/dump.arc.23000\n"
     ]
    }
   ],
   "source": [
    "import multiprocessing as mp\n",
    "n_proc = 8\n",
    "with mp.Pool(n_proc) as p:\n",
    "    print(p.map(save_struct_data, runs))"
   ]
  }
 ],
 "metadata": {
  "kernelspec": {
   "display_name": "Python 3",
   "language": "python",
   "name": "python3"
  },
  "language_info": {
   "codemirror_mode": {
    "name": "ipython",
    "version": 3
   },
   "file_extension": ".py",
   "mimetype": "text/x-python",
   "name": "python",
   "nbconvert_exporter": "python",
   "pygments_lexer": "ipython3",
   "version": "3.6.10"
  }
 },
 "nbformat": 4,
 "nbformat_minor": 4
}
