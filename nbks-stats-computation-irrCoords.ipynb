{
 "cells": [
  {
   "cell_type": "code",
   "execution_count": 12,
   "metadata": {},
   "outputs": [
    {
     "name": "stdout",
     "output_type": "stream",
     "text": [
      "The autoreload extension is already loaded. To reload it, use:\n",
      "  %reload_ext autoreload\n"
     ]
    }
   ],
   "source": [
    "%load_ext autoreload\n",
    "%autoreload 2"
   ]
  },
  {
   "cell_type": "code",
   "execution_count": 13,
   "metadata": {
    "scrolled": false
   },
   "outputs": [],
   "source": [
    "import os\n",
    "import ase\n",
    "import tqdm\n",
    "import pickle\n",
    "import numpy as np\n",
    "import ase.io as aio\n",
    "\n",
    "from toolz.curried import pipe, curry, compose\n",
    "\n",
    "import warnings\n",
    "warnings.filterwarnings('ignore')"
   ]
  },
  {
   "cell_type": "code",
   "execution_count": 14,
   "metadata": {},
   "outputs": [],
   "source": [
    "import plot\n",
    "import atommks.helpers as utils\n",
    "import atommks.atomstat as astat"
   ]
  },
  {
   "cell_type": "code",
   "execution_count": 15,
   "metadata": {},
   "outputs": [],
   "source": [
    "from ase import Atoms \n",
    "get_atoms = lambda a: Atoms([\"Cu\"]*len(a),\n",
    "                            positions=a.get_positions(),\n",
    "                            cell=a.get_cell(), \n",
    "                            pbc=[1, 1, 1], \n",
    "                            tags=a.get_tags())\n",
    "\n",
    "runs = np.loadtxt(\"runs.txt\").astype(int)"
   ]
  },
  {
   "cell_type": "markdown",
   "metadata": {},
   "source": [
    "## Computation over all structures"
   ]
  },
  {
   "cell_type": "code",
   "execution_count": 16,
   "metadata": {},
   "outputs": [],
   "source": [
    "folder_rdf = \"data/stats_new_irr_local\"\n",
    "if not os.path.exists(folder_rdf):\n",
    "    os.mkdir(folder_rdf)"
   ]
  },
  {
   "cell_type": "code",
   "execution_count": 17,
   "metadata": {},
   "outputs": [],
   "source": [
    "cutoff = 7.0\n",
    "r_stat = 5.0\n",
    "len_pixel = 10.0 "
   ]
  },
  {
   "cell_type": "code",
   "execution_count": 18,
   "metadata": {},
   "outputs": [],
   "source": [
    "@curry\n",
    "def generate_stats(run, r_stat, len_pixel):\n",
    "    \n",
    "    atoms = pipe(\"data/structs/dump.arc.{}_atom.pkl\".format(run), \n",
    "             lambda f: utils.load_file(f), \n",
    "             lambda a: get_atoms(a))\n",
    "\n",
    "    idx = np.where(atoms.get_tags() != 1)[0]\n",
    "    print(\"total atoms: {}, disturbed atoms: {}\".format(len(atoms), len(idx)))\n",
    "    n_irr = len(idx)\n",
    "    if len(idx) == 0:\n",
    "        np.random.seed(81396)\n",
    "        idx = np.random.randint(low=0, high=len(atoms), size=10000)\n",
    "\n",
    "    coords_all = atoms.get_positions()\n",
    "    coords_sub = coords_all[idx]\n",
    "\n",
    "    obj = utils.load_file(\"data/stat_indxs_cutoff_150/dump.arc.{}_stat_irrCoords.pkl\".format(run))\n",
    "    \n",
    "\n",
    "    \n",
    "    coords_stat = astat.get_realStats(coords_sub, coords_sub, obj[\"indexes\"], r_stat=r_stat, \n",
    "                            cell=atoms.get_cell(), \n",
    "                            pbc=atoms.get_pbc())\n",
    "    \n",
    "    rdf, pdf, bin_centers = astat.get_rdf(coords_stat, r_stat, len_pixel*10)\n",
    "    box = astat.get_2ptStat(coords_stat, r_stat, len_pixel)\n",
    "    \n",
    "    d = {}\n",
    "    d[\"rdf\"] = rdf\n",
    "    d[\"pdf\"] = pdf\n",
    "    d[\"bins\"] = bin_centers\n",
    "    d[\"box\"] = box\n",
    "    d[\"len_pixel\"] = len_pixel\n",
    "    d[\"n_irr\"] = n_irr\n",
    "    \n",
    "    utils.save_file(fname=\"{}/dump.arc.{}_stat.pkl\".format(folder_rdf, run), obj=d)"
   ]
  },
  {
   "cell_type": "code",
   "execution_count": 19,
   "metadata": {},
   "outputs": [
    {
     "name": "stdout",
     "output_type": "stream",
     "text": [
      "total atoms: 4000000, disturbed atoms: 244316\n",
      "total atoms: 4000000, disturbed atoms: 132505\n",
      "total atoms: 4000000, disturbed atoms: 272163\n",
      "total atoms: 4000000, disturbed atoms: 207399\n",
      "total atoms: 4000000, disturbed atoms: 289464\n",
      "total atoms: 4000000, disturbed atoms: 0\n",
      "total atoms: 4000000, disturbed atoms: 259220\n",
      "total atoms: 4000000, disturbed atoms: 182610\n",
      "total atoms: 4000000, disturbed atoms: 266384\n",
      "total atoms: 4000000, disturbed atoms: 205043\n",
      "total atoms: 4000000, disturbed atoms: 87589\n",
      "total atoms: 4000000, disturbed atoms: 252704\n",
      "total atoms: 4000000, disturbed atoms: 171079\n",
      "total atoms: 4000000, disturbed atoms: 242254\n",
      "total atoms: 4000000, disturbed atoms: 189780\n",
      "total atoms: 4000000, disturbed atoms: 206487\n",
      "total atoms: 4000000, disturbed atoms: 274957\n",
      "total atoms: 4000000, disturbed atoms: 261720\n",
      "total atoms: 4000000, disturbed atoms: 254992\n",
      "total atoms: 4000000, disturbed atoms: 259587\n",
      "total atoms: 4000000, disturbed atoms: 277355\n",
      "total atoms: 4000000, disturbed atoms: 263316\n",
      "total atoms: 4000000, disturbed atoms: 270915\n",
      "total atoms: 4000000, disturbed atoms: 263228\n",
      "total atoms: 4000000, disturbed atoms: 273242\n",
      "total atoms: 4000000, disturbed atoms: 284804\n",
      "total atoms: 4000000, disturbed atoms: 277256\n",
      "total atoms: 4000000, disturbed atoms: 262331\n",
      "total atoms: 4000000, disturbed atoms: 266712\n",
      "total atoms: 4000000, disturbed atoms: 305358\n",
      "total atoms: 4000000, disturbed atoms: 262055\n",
      "total atoms: 4000000, disturbed atoms: 275626\n",
      "total atoms: 4000000, disturbed atoms: 283293\n",
      "total atoms: 4000000, disturbed atoms: 272846\n",
      "total atoms: 4000000, disturbed atoms: 291440\n",
      "total atoms: 4000000, disturbed atoms: 280123\n",
      "total atoms: 4000000, disturbed atoms: 284864\n",
      "total atoms: 4000000, disturbed atoms: 273150\n",
      "total atoms: 4000000, disturbed atoms: 281529\n",
      "total atoms: 4000000, disturbed atoms: 296474\n",
      "total atoms: 4000000, disturbed atoms: 288960\n",
      "total atoms: 4000000, disturbed atoms: 288660\n",
      "total atoms: 4000000, disturbed atoms: 293813\n",
      "total atoms: 4000000, disturbed atoms: 310960\n",
      "total atoms: 4000000, disturbed atoms: 321396\n",
      "total atoms: 4000000, disturbed atoms: 283324\n",
      "total atoms: 4000000, disturbed atoms: 283188\n",
      "total atoms: 4000000, disturbed atoms: 293124\n",
      "total atoms: 4000000, disturbed atoms: 284846\n",
      "total atoms: 4000000, disturbed atoms: 296547\n",
      "total atoms: 4000000, disturbed atoms: 292284\n",
      "total atoms: 4000000, disturbed atoms: 264387\n",
      "total atoms: 4000000, disturbed atoms: 296167\n",
      "total atoms: 4000000, disturbed atoms: 274729\n",
      "total atoms: 4000000, disturbed atoms: 292861\n",
      "total atoms: 4000000, disturbed atoms: 286939\n",
      "total atoms: 4000000, disturbed atoms: 297448\n",
      "total atoms: 4000000, disturbed atoms: 319937\n",
      "total atoms: 4000000, disturbed atoms: 299584\n",
      "total atoms: 4000000, disturbed atoms: 270221\n",
      "total atoms: 4000000, disturbed atoms: 310742\n",
      "total atoms: 4000000, disturbed atoms: 270242\n",
      "total atoms: 4000000, disturbed atoms: 299609\n",
      "total atoms: 4000000, disturbed atoms: 292562\n",
      "total atoms: 4000000, disturbed atoms: 291993\n",
      "total atoms: 4000000, disturbed atoms: 287897\n",
      "total atoms: 4000000, disturbed atoms: 297483\n",
      "total atoms: 4000000, disturbed atoms: 318480\n",
      "total atoms: 4000000, disturbed atoms: 307397\n",
      "total atoms: 4000000, disturbed atoms: 278104\n",
      "total atoms: 4000000, disturbed atoms: 315427\n",
      "total atoms: 4000000, disturbed atoms: 308332\n",
      "total atoms: 4000000, disturbed atoms: 297810\n",
      "total atoms: 4000000, disturbed atoms: 293922\n",
      "total atoms: 4000000, disturbed atoms: 301248\n",
      "total atoms: 4000000, disturbed atoms: 310293\n",
      "total atoms: 4000000, disturbed atoms: 299990\n",
      "CPU times: user 222 ms, sys: 204 ms, total: 426 ms\n",
      "Wall time: 4min 49s\n"
     ]
    }
   ],
   "source": [
    "%%time\n",
    "import multiprocessing as mp\n",
    "n_proc = 10\n",
    "with mp.Pool(n_proc) as p:\n",
    "    p.map(generate_stats(r_stat=r_stat, len_pixel=len_pixel), runs)"
   ]
  }
 ],
 "metadata": {
  "kernelspec": {
   "display_name": "Python 3",
   "language": "python",
   "name": "python3"
  },
  "language_info": {
   "codemirror_mode": {
    "name": "ipython",
    "version": 3
   },
   "file_extension": ".py",
   "mimetype": "text/x-python",
   "name": "python",
   "nbconvert_exporter": "python",
   "pygments_lexer": "ipython3",
   "version": "3.7.4"
  }
 },
 "nbformat": 4,
 "nbformat_minor": 2
}
